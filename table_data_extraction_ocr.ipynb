{
 "cells": [
  {
   "cell_type": "markdown",
   "id": "65918746",
   "metadata": {},
   "source": [
    "# Converting pdf to images"
   ]
  },
  {
   "cell_type": "code",
   "execution_count": 11,
   "id": "f8cbb87e",
   "metadata": {},
   "outputs": [
    {
     "name": "stdout",
     "output_type": "stream",
     "text": [
      "Requirement already satisfied: pdf2image in /opt/anaconda3/lib/python3.9/site-packages (1.17.0)\n",
      "Requirement already satisfied: pillow in /opt/anaconda3/lib/python3.9/site-packages (from pdf2image) (9.2.0)\n",
      "Note: you may need to restart the kernel to use updated packages.\n"
     ]
    }
   ],
   "source": [
    "pip install pdf2image"
   ]
  },
  {
   "cell_type": "code",
   "execution_count": 12,
   "id": "a9d2b530",
   "metadata": {},
   "outputs": [],
   "source": [
    "from pdf2image import convert_from_path\n",
    "\n",
    "def convert_pdf_to_images(pdf_file):\n",
    "    return convert_from_path(pdf_file)\n",
    "\n",
    "#images = convert_pdf_to_images('/Users/sarvagyasinghs/Downloads/Hamiplant Invoices/143112-112207.pdf')\n",
    "images = '/Users/sarvagyasinghs/Downloads/png_Invoices Hamiplant/b0b4692e07b043b39b5f6ba44a0ffb94F0001_1.png'\n",
    "image = '/Users/sarvagyasinghs/Downloads/png_Invoices Hamiplant/b0b4692e07b043b39b5f6ba44a0ffb94F0001_1.png'"
   ]
  },
  {
   "cell_type": "markdown",
   "id": "865da10b",
   "metadata": {},
   "source": [
    "# Applying OCR to images"
   ]
  },
  {
   "cell_type": "code",
   "execution_count": 16,
   "id": "67aa3c64",
   "metadata": {},
   "outputs": [
    {
     "name": "stdout",
     "output_type": "stream",
     "text": [
      "['HAMIPLANTO\\n\\nWE BRING VITALITY\\n\\nTrade Parc Westland - Postbus 562 - 2675 ZV - Honselersdijk « Nederland - telefoon +31(0)174 612323 - fax +31(0)174 612324\\ne-mail plants@hamiplant.nl! - KvK Haaglanden 27239696 - BTW-nr.NL804543306B01\\n\\nwoodthorpe Hall Garden Centres PoD: 134148\\nwoodthorpe, Near Alford Floralinc\\nLN13 ODD Lincolshire Surfleet Road\\nUnited Kingdom E9500 PE11 3xY Spalding\\nGB809086124 United Kingdom\\nGB809086124000\\nPage Nr 6\\nDebno. 040002 Invoice 20240322000005 73040002 Date 22-03-2024\\nPhyto 292210162\\nVAT no. NL804543306B01 EORI NL804543306\\nNo Number Description Art.code Price Total Gbp\\nTransport 1850, 72\\n2X 8 Origanum vulgare (cuttings) 18 14 1,14 18,24\\n\\n5430000381109 Gbp 3,99\\n\\n16x Origanum vulgare\\n3 X 8 Salvia Growers Friend (cutting 18 14 1,14 27,36\\n\\n5430000381130 Gbhp 3,99\\n24x Salvia officinalis\\n\\n1 x 8 Moroccan mint Ccutting) 18 14 1,14 9,12\\n8717432875282 Gbp 3,99\\n2x 8 Peppermint CCuttings) 18 14 1,14 18,24\\n\\n5430000381093 Gbp 3,99\\n16x Mentha piperita\\n1 x 8 Herb Lavender 14cm 18 14 1,14 9,12\\n5430000381154 Gbp 3,99\\n8x Lavandula angustifolia\\n2 xX 8 Herb Parsley 14cm 18 14 1,03 16,48\\n5430000381116 Gbp 3,99\\n16x Petroselinum crispum\\n3 x 8 Herb Chives 14cm 18 14 1,03 24,72\\n5430000381048 Gbp 3,99\\n24x Allium schoenoprasum\\n\\nTOTAL INVOICE Gbp 1974,00\\nDescription Brut weigh Net weigh Amount Value\\nPlants flowering 06029091 BE 110 84 168 191,52\\noutdoor plants 06029050 BE 874 658 1344 1609, 44\\nBloembol overig 06011090 BE 68 42 168 173 ,04\\nTotal colli 210 1052 784 1680 1974 ,00\\n\\nINCOTERMS: DAP\\nBank: NL96RABO0142213810\\n\\nAny offers, agreements and deliveries are made under the General Terms and Conditions for the wholesale in floriculture products of the Dutch Association of\\nWholesalers of Floriculture products (VGB),filed at the Chamber of Commerce at Amsterdam, under no. 40596609.\\n']\n"
     ]
    }
   ],
   "source": [
    "import pytesseract\n",
    "\n",
    "image = '/Users/sarvagyasinghs/Downloads/png_Invoices Hamiplant/b0b4692e07b043b39b5f6ba44a0ffb94F0001_1.png'\n",
    "def extract_text_from_images(image):\n",
    "    text_list = []\n",
    "    text = pytesseract.image_to_string(image)\n",
    "    text_list.append(text)\n",
    "    print (text_list)\n",
    "    \n",
    "    '''for image in images:\n",
    "        text = pytesseract.image_to_string(image)\n",
    "        text_list.append(text) '''\n",
    "    return text_list\n",
    "\n",
    "extracted_text = extract_text_from_images(image)"
   ]
  },
  {
   "cell_type": "markdown",
   "id": "44b2035a",
   "metadata": {},
   "source": [
    "# Extract Table Data"
   ]
  },
  {
   "cell_type": "code",
   "execution_count": 14,
   "id": "99cf6ecf",
   "metadata": {},
   "outputs": [],
   "source": [
    "import pandas as pd\n",
    "import re\n",
    "\n",
    "def extract_table_data(text_list):\n",
    "    tables = []\n",
    "    for text in text_list:\n",
    "        # Assuming each line of the table starts with a digit\n",
    "        # (customize this regex based on your table format)\n",
    "        lines = re.findall(r'^\\d+.*', text, re.MULTILINE)\n",
    "        # Split each line into columns\n",
    "        table = [line.split() for line in lines]\n",
    "        df = pd.DataFrame(table)\n",
    "        tables.append(df)\n",
    "    return tables\n",
    "\n",
    "tables = extract_table_data(extracted_text)\n"
   ]
  },
  {
   "cell_type": "markdown",
   "id": "d50b8ff5",
   "metadata": {},
   "source": [
    "# Output to CSV"
   ]
  },
  {
   "cell_type": "code",
   "execution_count": 15,
   "id": "91a9dd71",
   "metadata": {},
   "outputs": [],
   "source": [
    "def output_tables_to_csv(tables):\n",
    "    for i, table in enumerate(tables):\n",
    "        table.to_csv(f'table_{i}.csv', index=False)\n",
    "\n",
    "output_tables_to_csv(tables)"
   ]
  },
  {
   "cell_type": "code",
   "execution_count": null,
   "id": "8dcd5f93",
   "metadata": {},
   "outputs": [],
   "source": []
  }
 ],
 "metadata": {
  "kernelspec": {
   "display_name": "Python 3 (ipykernel)",
   "language": "python",
   "name": "python3"
  },
  "language_info": {
   "codemirror_mode": {
    "name": "ipython",
    "version": 3
   },
   "file_extension": ".py",
   "mimetype": "text/x-python",
   "name": "python",
   "nbconvert_exporter": "python",
   "pygments_lexer": "ipython3",
   "version": "3.9.13"
  }
 },
 "nbformat": 4,
 "nbformat_minor": 5
}
